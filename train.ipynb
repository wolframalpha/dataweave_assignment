{
 "cells": [
  {
   "cell_type": "code",
   "execution_count": 90,
   "metadata": {},
   "outputs": [],
   "source": "from sklearn.feature_extraction.text import TfidfVectorizer\nimport re\nimport pandas as pd\nfrom sklearn.model_selection import StratifiedKFold"
  },
  {
   "cell_type": "code",
   "execution_count": 91,
   "metadata": {},
   "outputs": [],
   "source": "apple_company = open('data/apple-computers.txt').read()\napple_fruit = open('data/apple-fruit.txt').read()"
  },
  {
   "cell_type": "code",
   "execution_count": 92,
   "metadata": {},
   "outputs": [],
   "source": "apple_company = apple_company.split('\\n')\napple_fruit = apple_fruit.split('\\n')"
  },
  {
   "cell_type": "code",
   "execution_count": 93,
   "metadata": {},
   "outputs": [],
   "source": "def clean_texts(texts):\n    texts = [text.lower() for text in texts if text != '']\n    # remove hyperlink references e.g. [3]\n    texts = [re.sub('(\\[\\d+\\])', '', text) for text in texts]\n    # remove special characters like \\t \n    texts = [re.sub('[^A-Za-z0-9 \\.\\,]+', ' ', text) for text in texts]\n    return texts\napple_company = clean_texts(apple_company)\napple_fruit = clean_texts(apple_fruit)"
  },
  {
   "cell_type": "code",
   "execution_count": 94,
   "metadata": {},
   "outputs": [
    {
     "data": {
      "text/plain": "computer-company    283\nfruit               187\nName: label, dtype: int64"
     },
     "execution_count": 94,
     "metadata": {},
     "output_type": "execute_result"
    }
   ],
   "source": "df = pd.DataFrame(zip(apple_company + apple_fruit,\n                      len(apple_company)*['computer-company'] + len(apple_fruit)*['fruit']), columns=['text', 'label'])\ndf['label'].value_counts()"
  },
  {
   "cell_type": "code",
   "execution_count": 95,
   "metadata": {},
   "outputs": [],
   "source": "skf = StratifiedKFold(n_splits=5, shuffle=True, random_state=23)"
  },
  {
   "cell_type": "code",
   "execution_count": 96,
   "metadata": {},
   "outputs": [
    {
     "name": "stdout",
     "output_type": "stream",
     "text": "0.947368421053\n------------\n0.915789473684\n------------\n0.936170212766\n------------\n0.870967741935\n------------\n0.903225806452\n------------\n"
    }
   ],
   "source": "from sklearn.linear_model import LogisticRegression\nfrom sklearn.svm import SVC\nfrom sklearn.preprocessing import LabelEncoder\nfrom sklearn.pipeline import Pipeline\n\nfrom pycm import *\n# le = LabelEncoder()\nX = df['text'].values\ny = df['label'].values\n# print(y)\nfor train_idx, test_idx in skf.split(X=X, y=y):\n#     model = LogisticRegression(C=0.7, class_weight={'computer-company': 1, 'fruit': 1.5})\n    model = SVC(C=0.9, class_weight={'computer-company': 1, 'fruit': 1.5}, kernel='linear')\n    X_train, X_test, y_train, y_test = X[train_idx], X[test_idx], y[train_idx], y[test_idx]\n    \n    tfidf = TfidfVectorizer(ngram_range=(1,1))\n    X_train = tfidf.fit_transform(X_train)\n#     pipeline = Pipeline([\n#         ('tfidf', TfidfVectorizer()),\n#         ('clf', LogisticRegression(C=0.7, class_weight={'computer-company': 1, 'fruit': 1.5})),\n#     ])\n#     model = pipeline\n    model.fit(X_train, y_train)\n    X_test = tfidf.transform(X_test)\n    y_pred = model.predict(X_test)\n    cm = ConfusionMatrix(actual_vector=y_test, predict_vector=y_pred)\n#     print(pd.DataFrame(cm.matrix))\n    print(cm.ACC_Macro)\n    print('------------')"
  },
  {
   "cell_type": "code",
   "execution_count": 97,
   "metadata": {},
   "outputs": [],
   "source": "import pickle\npickle.dump([model, tfidf], open('data/model_trainedv1.pic', 'w'))"
  },
  {
   "cell_type": "code",
   "execution_count": 89,
   "metadata": {},
   "outputs": [
    {
     "data": {
      "text/plain": "array(['fruit', 'computer-company'], dtype=object)"
     },
     "execution_count": 89,
     "metadata": {},
     "output_type": "execute_result"
    }
   ],
   "source": "X_test = [\n  \"\"\"\n  profit very low in rainy season\n  \"\"\",\n\"\"\"\nprofits very low for samsung\n\"\"\"\n]\nX_test = tfidf.transform(X_test)\ny_pred = model.predict(X_test)\ny_pred"
  },
  {
   "cell_type": "code",
   "execution_count": null,
   "metadata": {},
   "outputs": [],
   "source": ""
  },
  {
   "cell_type": "code",
   "execution_count": null,
   "metadata": {},
   "outputs": [],
   "source": ""
  }
 ],
 "metadata": {
  "kernelspec": {
   "display_name": "Python 2",
   "language": "python",
   "name": "python2"
  },
  "language_info": {
   "codemirror_mode": {
    "name": "ipython",
    "version": 2
   },
   "file_extension": ".py",
   "mimetype": "text/x-python",
   "name": "python",
   "nbconvert_exporter": "python",
   "pygments_lexer": "ipython2",
   "version": "2.7.15+"
  }
 },
 "nbformat": 4,
 "nbformat_minor": 4
}
